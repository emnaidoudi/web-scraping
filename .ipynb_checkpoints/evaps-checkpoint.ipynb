{
 "cells": [
  {
   "cell_type": "code",
   "execution_count": 1,
   "metadata": {
    "scrolled": false
   },
   "outputs": [
    {
     "name": "stderr",
     "output_type": "stream",
     "text": [
      "/home/helmi/.local/lib/python3.5/site-packages/requests/__init__.py:91: RequestsDependencyWarning: urllib3 (1.24.1) or chardet (3.0.4) doesn't match a supported version!\n",
      "  RequestsDependencyWarning)\n"
     ]
    }
   ],
   "source": [
    "import pandas as pd\n",
    "import requests\n",
    "from bs4 import BeautifulSoup\n",
    "import requests\n",
    "from selenium import webdriver\n",
    "import re\n",
    "import numpy as np\n",
    "from sklearn.utils import shuffle\n",
    "from time import sleep"
   ]
  },
  {
   "cell_type": "code",
   "execution_count": 2,
   "metadata": {},
   "outputs": [],
   "source": [
    "from selenium.webdriver.common.keys import Keys"
   ]
  },
  {
   "cell_type": "markdown",
   "metadata": {},
   "source": [
    "### Click the AFFICHER TOUS LES ARTICLES button to display all products in every category"
   ]
  },
  {
   "cell_type": "code",
   "execution_count": 3,
   "metadata": {},
   "outputs": [],
   "source": [
    "#For each categorie we need to show all the product by invoking the \"AFFICHER TOUS LES ARTICLES\" button.\n",
    "def afficher_tous(current_driver):\n",
    "    button=current_driver.find_element_by_link_text(\"AFFICHER TOUS LES ARTICLES\")\n",
    "    button.click()\n",
    "    sleep(7)#5\n",
    "    elm=current_driver.find_element_by_tag_name(\"html\")\n",
    "    elm.send_keys(Keys.END)\n",
    "    sleep(5)#20\n",
    "    elm.send_keys(Keys.HOME)\n",
    "    # store it to string variable\n",
    "    page_source = current_driver.page_source    \n",
    "    current_soup=BeautifulSoup(page_source,'html5lib')\n",
    "    return current_soup"
   ]
  },
  {
   "cell_type": "markdown",
   "metadata": {},
   "source": [
    "### Get the driver with selenium"
   ]
  },
  {
   "cell_type": "code",
   "execution_count": 4,
   "metadata": {},
   "outputs": [],
   "source": [
    "def get_driver(url):#\"https://www.evaps.fr/boutique.html\"\n",
    "    driver = webdriver.Chrome('./chromedriver')\n",
    "    sleep(4) #10\n",
    "    driver.get(url)\n",
    "    sleep(4)#10\n",
    "    return driver"
   ]
  },
  {
   "cell_type": "code",
   "execution_count": 5,
   "metadata": {},
   "outputs": [],
   "source": [
    "driver_cigarette=get_driver(\"https://www.evaps.fr/boutique.html\")"
   ]
  },
  {
   "cell_type": "code",
   "execution_count": 6,
   "metadata": {},
   "outputs": [],
   "source": [
    "soup=afficher_tous(driver_cigarette)"
   ]
  },
  {
   "cell_type": "markdown",
   "metadata": {},
   "source": [
    "### Fetch the detail page for every categorie to get the: -Price, -Description and -Image"
   ]
  },
  {
   "cell_type": "code",
   "execution_count": 7,
   "metadata": {},
   "outputs": [],
   "source": [
    "def detail_page(soup):    # soup for which categorie  (detail page for every given categorie)\n",
    "    all_devs=links=soup.select('div[class=\"infos-box\"]')\n",
    "    all_links=[l.select_one('a') for l in all_devs]\n",
    "    hrefs=[\"https://www.evaps.fr/\"+l.get(\"href\") for l in all_links]\n",
    "    return hrefs"
   ]
  },
  {
   "cell_type": "markdown",
   "metadata": {},
   "source": [
    "### Fetch all the 3 categories:\n",
    "### *E-cigarette\n",
    "### *E-liquide \n",
    "### *DIY"
   ]
  },
  {
   "cell_type": "code",
   "execution_count": 8,
   "metadata": {},
   "outputs": [],
   "source": [
    "def go_categorie_xpath(xpath):#\"//*[@id='menu2']/a\"\n",
    "    href=driver_cigarette.find_element_by_xpath(xpath).get_attribute(\"href\")\n",
    "    cat_driver=get_driver(href)\n",
    "    cat_soup=afficher_tous(cat_driver)\n",
    "    #cat_driver.close()*****************************\n",
    "    return cat_soup  "
   ]
  },
  {
   "cell_type": "markdown",
   "metadata": {},
   "source": [
    "### Names and Brands"
   ]
  },
  {
   "cell_type": "code",
   "execution_count": 9,
   "metadata": {},
   "outputs": [],
   "source": [
    "def fill_features(which_soup):\n",
    "    all_lab=which_soup.select('div[class=\"infos-box\"]')\n",
    "    labs=[n.select('a[class=\"libelle\"]') for n in all_lab ]\n",
    "    all_names=[n[0].get_text() for n in labs]  \n",
    "    list_brand=[b.split(\"-\",1)[1] if b.find(\"-\")!=-1 else np.nan for b in all_names]\n",
    "    return {\"Names\":all_names, \"Brands\":list_brand}      "
   ]
  },
  {
   "cell_type": "markdown",
   "metadata": {},
   "source": [
    "### Fetch data from Detail page"
   ]
  },
  {
   "cell_type": "code",
   "execution_count": 12,
   "metadata": {},
   "outputs": [],
   "source": [
    "def list_deatil(soup):\n",
    "    hrefs=detail_page(soup)\n",
    "    liste_prix=list()\n",
    "    liste_imgs=list()\n",
    "    liste_desc=list()\n",
    "    def list_prix():\n",
    "        for h in hrefs:\n",
    "            print(\"href : \"+h)\n",
    "            p=requests.get(h)\n",
    "            soup_alterna=BeautifulSoup(p.text,'html5lib')\n",
    "            prix=soup_alterna.select('span[itemprop=\"price\"]')[0].get_text()   \n",
    "            liste_prix.append(prix)\n",
    "            a=h.split(\"details-produit.\",1)[1]\n",
    "            b=\"https://www.evaps.fr/documents/media/images/contenu/\"+a\n",
    "            c=b.replace(\"html\",\"jpg\")\n",
    "            liste_imgs.append(c)    \n",
    "            try:\n",
    "                desc=soup_alterna.select_one(\"div[id='mini-description'] p\").get_text()\n",
    "            except:\n",
    "                desc=np.nan\n",
    "            liste_desc.append(desc)\n",
    "                    \n",
    "    list_prix()\n",
    "    return {\"list_prix\":liste_prix,\"Photo\":liste_imgs,\"Desc\":liste_desc}   \n",
    "    "
   ]
  },
  {
   "cell_type": "markdown",
   "metadata": {},
   "source": [
    "### All the work is done here"
   ]
  },
  {
   "cell_type": "code",
   "execution_count": 13,
   "metadata": {},
   "outputs": [],
   "source": [
    "def work():\n",
    "    list_brand=list()\n",
    "    soup_diy=go_categorie_xpath('//*[@id=\"menu12\"]/a')\n",
    "    soup_elquide=go_categorie_xpath(\"//*[@id='menu2']/a\")\n",
    "        \n",
    "    all_prix_ecigarette=list_deatil(soup)['list_prix']\n",
    "    #print(\"Liste prix \"+all_prix_ecigarette[0])\n",
    "    \n",
    "    all_prix_eliquide=list_deatil(soup_elquide)['list_prix']\n",
    "    all_prix_diy=list_deatil(soup_diy)['list_prix']\n",
    "    \n",
    "    #******************Photo************************\n",
    "    \n",
    "    all_photo_ecigarette=list_deatil(soup)[\"Photo\"]\n",
    "    all_photo_eliquide=list_deatil(soup_elquide)[\"Photo\"]\n",
    "    all_photo_diy=list_deatil(soup_diy)[\"Photo\"]\n",
    "\n",
    "    #**************DEscription*********************************\n",
    "    all_d_ecigarette=list_deatil(soup)[\"Desc\"]\n",
    "    all_d_eliquide=list_deatil(soup_elquide)[\"Desc\"]\n",
    "    all_d_diy=list_deatil(soup_diy)[\"Desc\"]\n",
    "    #************************NAMES*************************\n",
    "    names_e_cigarette=fill_features(soup)[\"Names\"]\n",
    "    names_e_liquide=fill_features(soup_elquide)[\"Names\"]\n",
    "    names_diy=fill_features(soup_diy)[\"Names\"]\n",
    "    \n",
    "    #******************BRAND*********************************\n",
    "    marque_e_cigarette=fill_features(soup)[\"Brands\"]\n",
    "    marque_e_liquide=fill_features(soup_elquide)[\"Brands\"]\n",
    "    marque_e_diy=fill_features(soup_diy)[\"Brands\"]\n",
    "    \n",
    "  \n",
    "    #***************Categorie*********************\n",
    "    categorie_cigarette=[\"e_cigarette\"]*len(names_e_cigarette)\n",
    "    categorie_liquide=[\"e_liquide\"]*len(names_e_liquide)\n",
    "    categorie_diy=[\"diy\"]*len(names_diy)\n",
    "    \n",
    "    \n",
    "    Names=names_e_cigarette+names_e_liquide+names_diy\n",
    "    Brands=marque_e_cigarette+marque_e_liquide+marque_e_diy\n",
    "    Prices=all_prix_ecigarette+all_prix_eliquide+all_prix_diy\n",
    "    Categories=categorie_cigarette+categorie_liquide+categorie_diy\n",
    "    Photos=all_photo_ecigarette+all_photo_eliquide+all_photo_diy\n",
    "    Descrs=all_d_ecigarette+all_d_eliquide+all_d_diy\n",
    "    \n",
    "    df=pd.DataFrame(\n",
    "    {\n",
    "        \"Name\":Names,\n",
    "        \"Price\":Prices,\n",
    "        \"Brand\":Brands,\n",
    "        \"Categorie\":Categories,\n",
    "        \"Photo\":Photos,\n",
    "        \"Description\":Descrs\n",
    "       \n",
    "    },\n",
    ")\n",
    "    return  shuffle(df) \n",
    "    driver_cigarette.close() "
   ]
  },
  {
   "cell_type": "code",
   "execution_count": null,
   "metadata": {},
   "outputs": [],
   "source": [
    "df=work()"
   ]
  },
  {
   "cell_type": "code",
   "execution_count": 15,
   "metadata": {},
   "outputs": [
    {
     "data": {
      "text/plain": [
       "False"
      ]
     },
     "execution_count": 15,
     "metadata": {},
     "output_type": "execute_result"
    }
   ],
   "source": [
    "df[\"Photo\"].isnull().all()\n"
   ]
  },
  {
   "cell_type": "markdown",
   "metadata": {},
   "source": [
    "### Convert dataframe to csv"
   ]
  },
  {
   "cell_type": "code",
   "execution_count": null,
   "metadata": {},
   "outputs": [],
   "source": [
    "df.to_csv(\"csv_data.csv\")"
   ]
  },
  {
   "cell_type": "markdown",
   "metadata": {},
   "source": [
    "### Convert dataframe to json"
   ]
  },
  {
   "cell_type": "code",
   "execution_count": 21,
   "metadata": {},
   "outputs": [],
   "source": [
    "df.to_json(\"json_data.json\")\n"
   ]
  },
  {
   "cell_type": "code",
   "execution_count": 22,
   "metadata": {},
   "outputs": [
    {
     "data": {
      "text/html": [
       "<div>\n",
       "<style scoped>\n",
       "    .dataframe tbody tr th:only-of-type {\n",
       "        vertical-align: middle;\n",
       "    }\n",
       "\n",
       "    .dataframe tbody tr th {\n",
       "        vertical-align: top;\n",
       "    }\n",
       "\n",
       "    .dataframe thead th {\n",
       "        text-align: right;\n",
       "    }\n",
       "</style>\n",
       "<table border=\"1\" class=\"dataframe\">\n",
       "  <thead>\n",
       "    <tr style=\"text-align: right;\">\n",
       "      <th></th>\n",
       "      <th>Brand</th>\n",
       "      <th>Categorie</th>\n",
       "      <th>Description</th>\n",
       "      <th>Name</th>\n",
       "      <th>Photo</th>\n",
       "      <th>Price</th>\n",
       "    </tr>\n",
       "  </thead>\n",
       "  <tbody>\n",
       "    <tr>\n",
       "      <th>102</th>\n",
       "      <td>CoilArt</td>\n",
       "      <td>e_cigarette</td>\n",
       "      <td>NaN</td>\n",
       "      <td>Kit Mage Mech Tricker - CoilArt</td>\n",
       "      <td>https://www.evaps.fr/documents/media/images/co...</td>\n",
       "      <td>69.90</td>\n",
       "    </tr>\n",
       "    <tr>\n",
       "      <th>77</th>\n",
       "      <td>Priv 230W - Smoktech</td>\n",
       "      <td>e_cigarette</td>\n",
       "      <td>Laissez place à la somptueuse Box S Priv de Sm...</td>\n",
       "      <td>Box S-Priv 230W - Smoktech</td>\n",
       "      <td>https://www.evaps.fr/documents/media/images/co...</td>\n",
       "      <td>56.90</td>\n",
       "    </tr>\n",
       "    <tr>\n",
       "      <th>82</th>\n",
       "      <td>Vaporesso</td>\n",
       "      <td>e_cigarette</td>\n",
       "      <td>Succombez au redoutable charme du kit Switcher...</td>\n",
       "      <td>Kit Switcher 220W - Vaporesso</td>\n",
       "      <td>https://www.evaps.fr/documents/media/images/co...</td>\n",
       "      <td>79.90</td>\n",
       "    </tr>\n",
       "    <tr>\n",
       "      <th>250</th>\n",
       "      <td>Petit Nuage</td>\n",
       "      <td>e_liquide</td>\n",
       "      <td>Le eliquide Flocon Pressé Petit Nuage 60ml ❤ e...</td>\n",
       "      <td>Flocon Pressé 60ml - Petit Nuage</td>\n",
       "      <td>https://www.evaps.fr/documents/media/images/co...</td>\n",
       "      <td>24.90</td>\n",
       "    </tr>\n",
       "    <tr>\n",
       "      <th>109</th>\n",
       "      <td>Eleaf</td>\n",
       "      <td>e_cigarette</td>\n",
       "      <td>NaN</td>\n",
       "      <td>Ikonn Total / Ello Mini XL - Eleaf</td>\n",
       "      <td>https://www.evaps.fr/documents/media/images/co...</td>\n",
       "      <td>43.90</td>\n",
       "    </tr>\n",
       "  </tbody>\n",
       "</table>\n",
       "</div>"
      ],
      "text/plain": [
       "                    Brand    Categorie  \\\n",
       "102               CoilArt  e_cigarette   \n",
       "77   Priv 230W - Smoktech  e_cigarette   \n",
       "82              Vaporesso  e_cigarette   \n",
       "250           Petit Nuage    e_liquide   \n",
       "109                 Eleaf  e_cigarette   \n",
       "\n",
       "                                           Description  \\\n",
       "102                                                NaN   \n",
       "77   Laissez place à la somptueuse Box S Priv de Sm...   \n",
       "82   Succombez au redoutable charme du kit Switcher...   \n",
       "250  Le eliquide Flocon Pressé Petit Nuage 60ml ❤ e...   \n",
       "109                                                NaN   \n",
       "\n",
       "                                   Name  \\\n",
       "102     Kit Mage Mech Tricker - CoilArt   \n",
       "77           Box S-Priv 230W - Smoktech   \n",
       "82        Kit Switcher 220W - Vaporesso   \n",
       "250    Flocon Pressé 60ml - Petit Nuage   \n",
       "109  Ikonn Total / Ello Mini XL - Eleaf   \n",
       "\n",
       "                                                 Photo  Price  \n",
       "102  https://www.evaps.fr/documents/media/images/co...  69.90  \n",
       "77   https://www.evaps.fr/documents/media/images/co...  56.90  \n",
       "82   https://www.evaps.fr/documents/media/images/co...  79.90  \n",
       "250  https://www.evaps.fr/documents/media/images/co...  24.90  \n",
       "109  https://www.evaps.fr/documents/media/images/co...  43.90  "
      ]
     },
     "execution_count": 22,
     "metadata": {},
     "output_type": "execute_result"
    }
   ],
   "source": [
    "df.head()"
   ]
  },
  {
   "cell_type": "markdown",
   "metadata": {},
   "source": [
    "### Convert ipynb to Python script and to pdf"
   ]
  },
  {
   "cell_type": "code",
   "execution_count": 26,
   "metadata": {},
   "outputs": [
    {
     "name": "stdout",
     "output_type": "stream",
     "text": [
      "[TerminalIPythonApp] WARNING | Subcommand `ipython nbconvert` is deprecated and will be removed in future versions.\n",
      "[TerminalIPythonApp] WARNING | You likely want to use `jupyter nbconvert` in the future\n",
      "/home/helmi/.local/lib/python3.5/site-packages/requests/__init__.py:91: RequestsDependencyWarning: urllib3 (1.24.1) or chardet (3.0.4) doesn't match a supported version!\n",
      "  RequestsDependencyWarning)\n",
      "[NbConvertApp] Converting notebook evaps.ipynb to html\n",
      "[NbConvertApp] Writing 311322 bytes to evaps.html\n"
     ]
    }
   ],
   "source": [
    "! ipython nbconvert --to html evaps.ipynb"
   ]
  },
  {
   "cell_type": "code",
   "execution_count": 29,
   "metadata": {},
   "outputs": [
    {
     "name": "stdout",
     "output_type": "stream",
     "text": [
      "Loading page (1/2)\n",
      "Warning: Failed to load file:///home/helmi/Desktop/Web_scraping/custom.css (ignore)\n",
      "Printing pages (2/2)                                               \n",
      "Done                                                           \n"
     ]
    }
   ],
   "source": [
    "! wkhtmltopdf evaps.html evaps.pdf   "
   ]
  }
 ],
 "metadata": {
  "kernelspec": {
   "display_name": "Python 3",
   "language": "python",
   "name": "python3"
  },
  "language_info": {
   "codemirror_mode": {
    "name": "ipython",
    "version": 3
   },
   "file_extension": ".py",
   "mimetype": "text/x-python",
   "name": "python",
   "nbconvert_exporter": "python",
   "pygments_lexer": "ipython3",
   "version": "3.5.2"
  }
 },
 "nbformat": 4,
 "nbformat_minor": 2
}
